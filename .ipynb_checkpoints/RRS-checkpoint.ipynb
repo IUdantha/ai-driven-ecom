{
 "cells": [
  {
   "cell_type": "code",
   "execution_count": 15,
   "id": "5480a855-e5e3-4feb-95f4-3b7640fd2a35",
   "metadata": {},
   "outputs": [],
   "source": [
    "import pandas as pd\n",
    "from sklearn.feature_extraction.text import TfidfVectorizer\n",
    "from sklearn.metrics.pairwise import cosine_similarity\n",
    "import pickle"
   ]
  },
  {
   "cell_type": "code",
   "execution_count": null,
   "id": "031978ec-c9c4-42e7-81c8-e316c529e211",
   "metadata": {},
   "outputs": [],
   "source": [
    "# Load the data set\n",
    "recipes = pd.read_csv('RAW_recipes.csv')\n",
    "row_data = recipes[recipes['id'] == 110548]\n",
    "\n",
    "# Display the row\n",
    "print(row_data)"
   ]
  },
  {
   "cell_type": "code",
   "execution_count": null,
   "id": "5e934595-2b8c-495f-aa13-c17bc0b4f4c4",
   "metadata": {},
   "outputs": [],
   "source": [
    "# Check for null values\n",
    "recipes.isnull().sum()"
   ]
  },
  {
   "cell_type": "code",
   "execution_count": null,
   "id": "b2ea6b3c-283e-40cc-af85-d34cc4f0ad54",
   "metadata": {},
   "outputs": [],
   "source": [
    "# Describe the data set\n",
    "recipes.describe()"
   ]
  },
  {
   "cell_type": "code",
   "execution_count": null,
   "id": "d38a2f5c-2260-42fa-ab8b-e70fee085c92",
   "metadata": {},
   "outputs": [],
   "source": [
    "# Check movies info\n",
    "recipes.info()"
   ]
  },
  {
   "cell_type": "code",
   "execution_count": null,
   "id": "dc621bf9-fcdf-438a-9628-d27ff19f1689",
   "metadata": {},
   "outputs": [],
   "source": [
    "# check columns\n",
    "recipes.columns"
   ]
  },
  {
   "cell_type": "code",
   "execution_count": null,
   "id": "983988aa-8cae-4d7a-af5f-3f257f20b88c",
   "metadata": {},
   "outputs": [],
   "source": [
    "# select features needed for content-based filtering, based on the movie title.\n",
    "recipes = recipes[['name','id', 'minutes','tags', 'nutrition','steps','description','ingredients','n_ingredients']]\n",
    "recipes"
   ]
  },
  {
   "cell_type": "code",
   "execution_count": null,
   "id": "999fc9ab-e0be-43dd-a427-e9c8db10aa6f",
   "metadata": {},
   "outputs": [],
   "source": [
    "recipes['tags_cleaned'] = recipes['tags'].apply(lambda x: \" \".join(eval(x)))\n",
    "recipes['text_data'] = (recipes['tags_cleaned'] + \" \" + recipes['description'] + \" \" + recipes['ingredients'].apply(lambda x: \" \".join(eval(x))))\n",
    "recipes['text_data'] = recipes['text_data'].fillna(\"\")\n",
    "recipes"
   ]
  },
  {
   "cell_type": "code",
   "execution_count": null,
   "id": "351bacb1-e3d9-4e5b-886b-17ec4284ccc4",
   "metadata": {},
   "outputs": [],
   "source": [
    "vectorizer = TfidfVectorizer(stop_words='english')\n",
    "vectorizer"
   ]
  },
  {
   "cell_type": "code",
   "execution_count": null,
   "id": "95779c17-4b7a-4bb0-bbe1-1583c0750fb5",
   "metadata": {},
   "outputs": [],
   "source": [
    "tfidf_matrix = vectorizer.fit_transform(recipes['text_data'])\n",
    "tfidf_matrix.shape"
   ]
  },
  {
   "cell_type": "code",
   "execution_count": 57,
   "id": "904c9389-e270-4581-b8d5-e88aafda6e51",
   "metadata": {},
   "outputs": [],
   "source": [
    "# # Compute cosine similarity for the entire TF-IDF matrix\n",
    "# cosine_sim_matrix = cosine_similarity(tfidf_matrix)\n",
    "# cosine_sim_matrix"
   ]
  },
  {
   "cell_type": "code",
   "execution_count": null,
   "id": "ac0178dc-885a-4f26-a6c2-76ca9d0bf3ee",
   "metadata": {},
   "outputs": [],
   "source": [
    "# # Save the cosine similarity matrix\n",
    "# with open('cosine_similarity.pkl', 'wb') as f:\n",
    "#     pickle.dump(cosine_sim_matrix, f)"
   ]
  },
  {
   "cell_type": "code",
   "execution_count": null,
   "id": "5e0c8846-e4a7-46e5-816f-a5174b7db7e9",
   "metadata": {},
   "outputs": [],
   "source": [
    "from sklearn.metrics.pairwise import cosine_similarity\n",
    "\n",
    "# User preferences as a query\n",
    "preferences = [\"vegetarian\", \"Italian\", \"spicy\"] \n",
    "user_query = \" \".join(preferences)  \n",
    "# user_query = \"vegetarian Italian spicy\"  \n",
    "user_vector = vectorizer.transform([user_query])\n",
    "\n",
    "# Compute similarity incrementally\n",
    "def compute_similarity_incrementally(user_vector, tfidf_matrix, batch_size=1000):\n",
    "    similarities = []\n",
    "    for i in range(0, tfidf_matrix.shape[0], batch_size):\n",
    "        batch = tfidf_matrix[i:i + batch_size]\n",
    "        batch_similarity = cosine_similarity(user_vector, batch).flatten()\n",
    "        similarities.extend(batch_similarity)\n",
    "    return similarities\n",
    "\n",
    "# Incremental computation of similarity\n",
    "similarity_scores = compute_similarity_incrementally(user_vector, tfidf_matrix)\n",
    "\n",
    "# Rank recipes by similarity\n",
    "top_indices = sorted(range(len(similarity_scores)), key=lambda i: similarity_scores[i], reverse=True)[:10]\n",
    "\n",
    "# Retrieve top recommendations\n",
    "recommended_recipes = recipes.iloc[top_indices]\n",
    "\n",
    "# Display recommendations\n",
    "for _, row in recommended_recipes.iterrows():\n",
    "    print(f\"RECIPE NAME: {row['name'].upper()}\")\n",
    "    print(f\"Description: {row['description']}\")\n",
    "    print(f\"Ingredients: {row['ingredients']}\")\n",
    "    print(f\"Steps: {row['steps']}\")\n",
    "    print(\"-\" * 50)\n"
   ]
  },
  {
   "cell_type": "code",
   "execution_count": 26,
   "id": "628d533e-5f2f-4cf3-819f-03f5159159c7",
   "metadata": {},
   "outputs": [],
   "source": [
    "# Save the vectorizer and TF-IDF matrix as pickle files\n",
    "with open('vectorizer.pkl', 'wb') as f:\n",
    "    pickle.dump(vectorizer, f)\n",
    "\n",
    "with open('tfidf_matrix.pkl', 'wb') as f:\n",
    "    pickle.dump(tfidf_matrix, f)\n",
    "\n",
    "# Save the preprocessed recipes dataset\n",
    "recipes.to_csv('preprocessed_recipes.csv', index=False)\n"
   ]
  },
  {
   "cell_type": "code",
   "execution_count": null,
   "id": "d7d12b60-148e-462d-a2b6-c9bbcc2a1ca4",
   "metadata": {},
   "outputs": [],
   "source": [
    "row_data = recipes[recipes['id'] == 110548]\n",
    "\n",
    "row_data"
   ]
  }
 ],
 "metadata": {
  "kernelspec": {
   "display_name": "venv",
   "language": "python",
   "name": "python3"
  },
  "language_info": {
   "codemirror_mode": {
    "name": "ipython",
    "version": 3
   },
   "file_extension": ".py",
   "mimetype": "text/x-python",
   "name": "python",
   "nbconvert_exporter": "python",
   "pygments_lexer": "ipython3",
   "version": "3.12.2"
  }
 },
 "nbformat": 4,
 "nbformat_minor": 5
}
